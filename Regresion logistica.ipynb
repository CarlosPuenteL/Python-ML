{
  "nbformat": 4,
  "nbformat_minor": 0,
  "metadata": {
    "colab": {
      "name": "Untitled4.ipynb",
      "provenance": [],
      "authorship_tag": "ABX9TyPR1yNwP8Jwez3cJz3Rpw3S",
      "include_colab_link": true
    },
    "kernelspec": {
      "name": "python3",
      "display_name": "Python 3"
    }
  },
  "cells": [
    {
      "cell_type": "markdown",
      "metadata": {
        "id": "view-in-github",
        "colab_type": "text"
      },
      "source": [
        "<a href=\"https://colab.research.google.com/github/CarlosPuenteL/Python-ML/blob/main/Regresion%20logistica.ipynb\" target=\"_parent\"><img src=\"https://colab.research.google.com/assets/colab-badge.svg\" alt=\"Open In Colab\"/></a>"
      ]
    },
    {
      "cell_type": "code",
      "metadata": {
        "id": "s3f3nDbbGz8F",
        "outputId": "8da02313-1618-4d6a-acb7-e49cf15a65a5",
        "colab": {
          "base_uri": "https://localhost:8080/",
          "height": 206
        }
      },
      "source": [
        "# This part sets up the graphing configuration\n",
        "import warnings\n",
        "warnings.filterwarnings(\"ignore\")\n",
        "import matplotlib.pyplot as graph\n",
        "%matplotlib inline\n",
        "graph.rcParams['figure.figsize'] = (15,5)\n",
        "graph.rcParams[\"font.family\"] = 'DejaVu Sans'\n",
        "graph.rcParams[\"font.size\"] = '12'\n",
        "graph.rcParams['image.cmap'] = 'rainbow'\n",
        "import pandas as pd\n",
        "\n",
        "\n",
        "###\n",
        "# REPLACE <addFilePath> BELOW WITH 'Data/football data.txt' (INCLUDING THE QUOTES) TO LOAD THE DATA FROM THAT FILE\n",
        "###\n",
        "dataset = pd.read_csv('football data.txt', index_col = False, sep = '\\t', header = 0)\n",
        "###\n",
        "\n",
        "###\n",
        "# REPLACE <printDataHere> BELOW WITH print(dataset.head()) TO PREVIEW OUR DATASET\n",
        "###\n",
        "dataset.head()\n",
        "###"
      ],
      "execution_count": 1,
      "outputs": [
        {
          "output_type": "execute_result",
          "data": {
            "text/html": [
              "<div>\n",
              "<style scoped>\n",
              "    .dataframe tbody tr th:only-of-type {\n",
              "        vertical-align: middle;\n",
              "    }\n",
              "\n",
              "    .dataframe tbody tr th {\n",
              "        vertical-align: top;\n",
              "    }\n",
              "\n",
              "    .dataframe thead th {\n",
              "        text-align: right;\n",
              "    }\n",
              "</style>\n",
              "<table border=\"1\" class=\"dataframe\">\n",
              "  <thead>\n",
              "    <tr style=\"text-align: right;\">\n",
              "      <th></th>\n",
              "      <th>average_goals_per_match</th>\n",
              "      <th>won_competition</th>\n",
              "    </tr>\n",
              "  </thead>\n",
              "  <tbody>\n",
              "    <tr>\n",
              "      <th>0</th>\n",
              "      <td>2.422870</td>\n",
              "      <td>1</td>\n",
              "    </tr>\n",
              "    <tr>\n",
              "      <th>1</th>\n",
              "      <td>2.824478</td>\n",
              "      <td>1</td>\n",
              "    </tr>\n",
              "    <tr>\n",
              "      <th>2</th>\n",
              "      <td>0.571688</td>\n",
              "      <td>0</td>\n",
              "    </tr>\n",
              "    <tr>\n",
              "      <th>3</th>\n",
              "      <td>1.055028</td>\n",
              "      <td>0</td>\n",
              "    </tr>\n",
              "    <tr>\n",
              "      <th>4</th>\n",
              "      <td>0.394192</td>\n",
              "      <td>0</td>\n",
              "    </tr>\n",
              "  </tbody>\n",
              "</table>\n",
              "</div>"
            ],
            "text/plain": [
              "   average_goals_per_match  won_competition\n",
              "0                 2.422870                1\n",
              "1                 2.824478                1\n",
              "2                 0.571688                0\n",
              "3                 1.055028                0\n",
              "4                 0.394192                0"
            ]
          },
          "metadata": {
            "tags": []
          },
          "execution_count": 1
        }
      ]
    },
    {
      "cell_type": "code",
      "metadata": {
        "id": "k3eEpyUDHZyU",
        "outputId": "7e53602e-3311-414f-e16d-7056451c563a",
        "colab": {
          "base_uri": "https://localhost:8080/",
          "height": 279
        }
      },
      "source": [
        "###\n",
        "# REPLACE <addWonCompetition> BELOW WITH 'won_competition' (INCLUDING THE QUOTES)\n",
        "###\n",
        "train_Y = dataset['won_competition']\n",
        "###\n",
        "\n",
        "###\n",
        "# REPLACE <addAverageGoals> BELOW WITH 'average_goals_per_match' (INCLUDING THE QUOTES)\n",
        "###\n",
        "train_X = dataset['average_goals_per_match']\n",
        "###\n",
        "\n",
        "# The 'won_competition' will be displayed on the vertical axis (y axis)\n",
        "# The 'average_goals_per_match' will be displayed on the horizontal axis (x axis)\n",
        "\n",
        "graph.scatter(train_X, train_Y, c = train_Y, marker = 'D')\n",
        "\n",
        "graph.yticks([0, 1], ['No', 'Yes'])\n",
        "graph.ylabel(\"Competition Win\")\n",
        "graph.ylim([-0.5, 1.5])\n",
        "graph.xlabel(\"Average number of goals scored per match\")\n",
        "\n",
        "graph.show()"
      ],
      "execution_count": 2,
      "outputs": [
        {
          "output_type": "display_data",
          "data": {
            "image/png": "[encoded data removed]",
            "text/plain": [
              "<Figure size 432x288 with 1 Axes>"
            ]
          },
          "metadata": {
            "tags": [],
            "needs_background": "light"
          }
        }
      ]
    },
    {
      "cell_type": "code",
      "metadata": {
        "id": "zWnMeecPH6Mo"
      },
      "source": [
        "import numpy as np\n",
        "from sklearn import linear_model\n",
        "\n",
        "# Here we build a logistic regression model\n",
        "\n",
        "###\n",
        "# REPLACE <buildLinearRegression> BELOW WITH linear_model.LogisticRegression() TO BUILD A LOGISTIC REGRESSION MODEL\n",
        "###\n",
        "clf = linear_model.LogisticRegression()\n",
        "###\n",
        "\n",
        "# This step fits (calculates) the model\n",
        "# We are using our feature (x - number of goals scored) and our outcome/label (y - won/lost)\n",
        "clf.fit(train_X[:, np.newaxis], train_Y)\n",
        "\n",
        "# This works out the loss\n",
        "def sigmoid(train_X):\n",
        "    return 1 / (1 + np.exp(-train_X))\n",
        "X_test = np.linspace(0, 3, 300)\n",
        "loss = sigmoid(X_test * clf.coef_ + clf.intercept_).ravel()"
      ],
      "execution_count": 3,
      "outputs": []
    },
    {
      "cell_type": "code",
      "metadata": {
        "id": "IyP6_TfoIRi_",
        "outputId": "cd4a369e-fc8e-460d-a285-7698fa2ef070",
        "colab": {
          "base_uri": "https://localhost:8080/",
          "height": 279
        }
      },
      "source": [
        "# This makes the graph\n",
        "# The data points\n",
        "graph.scatter(train_X, train_Y, c = train_Y, marker = 'D')\n",
        "# The curve\n",
        "graph.plot(X_test, loss, color = 'gold', linewidth = 3)\n",
        "# Define the y-axis\n",
        "graph.yticks([0, 1], ['No = 0.0', 'Yes = 1.0'])\n",
        "graph.ylabel(\"Competition Win Likelihood\")\n",
        "graph.xlabel(\"Average number of goals per match\")\n",
        "graph.show()"
      ],
      "execution_count": 4,
      "outputs": [
        {
          "output_type": "display_data",
          "data": {
            "image/png": "[encoded data removed]",
            "text/plain": [
              "<Figure size 432x288 with 1 Axes>"
            ]
          },
          "metadata": {
            "tags": [],
            "needs_background": "light"
          }
        }
      ]
    },
    {
      "cell_type": "code",
      "metadata": {
        "id": "SWYTfCzQIYpc",
        "outputId": "db74b93d-0f5a-4066-9a2c-07709a0d0352",
        "colab": {
          "base_uri": "https://localhost:8080/",
          "height": 316
        }
      },
      "source": [
        "###\n",
        "# REPLACE <numberOfGoals> BELOW WITH THE NUMBER OF GOALS IN A MATCH THIS YEAR. USE ANY NUMBER FROM 0 TO 3\n",
        "###\n",
        "p = 2\n",
        "###\n",
        "\n",
        "# Next we're going to use our model again - clf is the name of our model.\n",
        "# We'll use a method to predict the probability of a positive result\n",
        "# Use the variable p which we just made in this method.\n",
        "\n",
        "###\n",
        "# REPLACE <replaceWithP> BELOW WITH p TO PREDICT USING THIS VALUE\n",
        "###\n",
        "probOfWinning = clf.predict_proba([[ p ]])[0][1]\n",
        "###\n",
        "\n",
        "# This prints out the result\n",
        "print(\"Probability of winning this year\")\n",
        "print(str(probOfWinning * 100) + \"%\")\n",
        "\n",
        "# This plots the result\n",
        "graph.scatter(train_X, train_Y, c = train_Y, marker = 'D')\n",
        "graph.yticks([0, probOfWinning, 1], ['No = 0.0', round(probOfWinning,3), 'Yes = 1.0'])\n",
        "graph.plot(X_test, loss, color = 'gold', linewidth = 3)\n",
        "\n",
        "graph.plot(p, probOfWinning, 'ko') # result point\n",
        "graph.plot(np.linspace(0, p, 2), np.full([2],probOfWinning), dashes = [6, 3], color = 'black') # dashed lines (to y-axis)\n",
        "graph.plot(np.full([2],p), np.linspace(0, probOfWinning, 2), dashes = [6, 3], color = 'black') # dashed lines (to x-axis)\n",
        "\n",
        "graph.ylabel(\"Competition Win Likelihood\")\n",
        "graph.xlabel(\"Average number of goals per match\")\n",
        "graph.show()"
      ],
      "execution_count": 5,
      "outputs": [
        {
          "output_type": "stream",
          "text": [
            "Probability of winning this year\n",
            "30.606829875507678%\n"
          ],
          "name": "stdout"
        },
        {
          "output_type": "display_data",
          "data": {
            "image/png": "[encoded data removed]",
            "text/plain": [
              "<Figure size 432x288 with 1 Axes>"
            ]
          },
          "metadata": {
            "tags": [],
            "needs_background": "light"
          }
        }
      ]
    },
    {
      "cell_type": "code",
      "metadata": {
        "id": "j40dTPeNI-xP",
        "outputId": "1a45fea0-5e8b-4e2c-a37e-25029cbd54fa",
        "colab": {
          "base_uri": "https://localhost:8080/",
          "height": 316
        }
      },
      "source": [
        "# Let's do that again.\n",
        "# We will repeat what we did in step 3, but change the decision boundary.\n",
        "\n",
        "import numpy as np\n",
        "from sklearn import linear_model\n",
        "\n",
        "###\n",
        "# REPLACE THE <numberOfGoals> WITH THE NUMBER OF GOALS YOU WANT TO EVALUATE\n",
        "###\n",
        "p = 2\n",
        "###\n",
        "\n",
        "# Here we build the new logistic regression model.\n",
        "# The C=200 is where we change the decision boundary.\n",
        "###\n",
        "# REPLACE <buildLinearRegression> BELOW WITH linear_model.LogisticRegression(C=200) TO BUILD A LOGISTIC REGRESSION MODEL\n",
        "###\n",
        "clf = linear_model.LogisticRegression(C=200)\n",
        "###\n",
        "\n",
        "# This step fits (calculates) the model\n",
        "# We are using our feature (x - number of goals scored) and our outcome/label (y - won/lost)\n",
        "clf.fit(train_X[:, np.newaxis], train_Y)\n",
        "\n",
        "# This works out the loss\n",
        "def sigmoid(train_X):\n",
        "    return 1 / (1 + np.exp(-train_X))\n",
        "X_test = np.linspace(0, 3, 300)\n",
        "loss = sigmoid(X_test * clf.coef_ + clf.intercept_).ravel()\n",
        "\n",
        "# This makes the prediction for your chosen number of goals.\n",
        "probOfWinning = clf.predict_proba([[p]])[0][1]\n",
        "\n",
        "# This prints out the result.\n",
        "print(\"Probability of winning this year\")\n",
        "print(str(probOfWinning * 100) + \"%\")\n",
        "\n",
        "# This plots the result.\n",
        "graph.scatter(train_X, train_Y, c = train_Y, marker = 'D')\n",
        "graph.yticks([0, probOfWinning, 1], ['No = 0.0', round(probOfWinning,3), 'Yes = 1.0'])\n",
        "graph.plot(X_test, loss, color = 'gold', linewidth = 3)\n",
        "\n",
        "graph.plot(p, probOfWinning, 'ko') # result point\n",
        "graph.plot(np.linspace(0, p, 2), np.full([2],probOfWinning), dashes = [6, 3], color = 'black') # dashed lines (to y-axis)\n",
        "graph.plot(np.full([2],p), np.linspace(0, probOfWinning, 2), dashes = [6, 3], color = 'black') # dashed lines (to x-axis)\n",
        "\n",
        "graph.ylabel(\"Competition Win Likelihood\")\n",
        "graph.xlabel(\"Average number of goals per match\")\n",
        "graph.show()"
      ],
      "execution_count": 7,
      "outputs": [
        {
          "output_type": "stream",
          "text": [
            "Probability of winning this year\n",
            "0.32555622131245654%\n"
          ],
          "name": "stdout"
        },
        {
          "output_type": "display_data",
          "data": {
            "image/png": "[encoded data removed]",
            "text/plain": [
              "<Figure size 432x288 with 1 Axes>"
            ]
          },
          "metadata": {
            "tags": [],
            "needs_background": "light"
          }
        }
      ]
    },
    {
      "cell_type": "code",
      "metadata": {
        "id": "QveE92gxJTr5"
      },
      "source": [
        ""
      ],
      "execution_count": null,
      "outputs": []
    }
  ]
}